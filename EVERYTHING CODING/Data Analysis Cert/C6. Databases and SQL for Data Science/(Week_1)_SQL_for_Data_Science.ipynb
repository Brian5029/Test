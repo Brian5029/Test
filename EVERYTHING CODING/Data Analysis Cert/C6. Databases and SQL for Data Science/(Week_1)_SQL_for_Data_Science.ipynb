{
 "cells": [
  {
   "cell_type": "markdown",
   "metadata": {
    "id": "lMutJEkq9Qm0"
   },
   "source": [
    "# **SQL**\n",
    "- SQL is a language used for `relational databases` and querying data\n",
    "\n",
    "# **Database**\n",
    "- Database is a repository of data and it provies the functionality for adding, modifying and querying data.\n",
    "\n",
    "# **Relational Database**\n",
    "- Relational Database is data stored in tabular form like columns and rows\n",
    "\n",
    "# **DBMS**\n",
    "- DBMS is a database management system software that manages databases\n",
    "  - RDBMS is a relational database management system\n",
    "\n",
    "# **Basic SQL Commands**\n",
    "- Create table\n",
    "- Insert\n",
    "- Select\n",
    "- Update\n",
    "- Delete"
   ]
  },
  {
   "cell_type": "markdown",
   "metadata": {
    "id": "OhJ47VrC9Qsd"
   },
   "source": [
    "# **SELECT Statement (DML)**\n",
    "Data Manipulation Language (DML) is a statement used to read and modify data\n",
    "\n",
    "- The select statement is calle Query and the result we get from the query is the Result\n",
    "\n",
    "`SELECT` column1, column2, ...\n",
    "\n",
    "`FROM` table_name\n",
    "\n",
    "`WHERE` condition\n",
    "\n",
    "- FROM: Specifies from which table to get the data. The clause can include optional JOIN subclauses to specify the rules for joining tables.\n",
    "- WHERE : Specifies which rows to retrieve."
   ]
  },
  {
   "cell_type": "markdown",
   "metadata": {
    "id": "ufzyXIBR9QqV"
   },
   "source": [
    "# **COUNT, DISTINCT, LIMIT**\n",
    "-  `COUNT` is an aggregate function that retrieves the number of rows that matches the query criteria. For example\n",
    "  - Retrieve the number of locations of the films which are written by James Cameron\n",
    "  - `SELECT COUNT(Locations) FROM FilmLocations WHERE Writer=\"James Cameron\";` will give the number of films written by James (45) \n",
    "- `DISTINCT` is used to remove duplicate values from a specified result set and only return the unique values\n",
    "  - Retrieve the number of distributors distinctly who distributed films acted by Clint Eastwood as 1st actor.\n",
    "  - `SELECT COUNT(DISTINCT Distributor) FROM FilmLocations WHERE Actor1=\"Clint Eastwood\";`\n",
    "\n",
    "-  `LIMIT` is used for restricting the number of rows retrieved from the table\n",
    "  - Retrieve the first 15 rows from the \"FilmLocations\" table starting from row 11.\n",
    "  - `SELECT * FROM FilmLocations LIMIT 15 OFFSET 10;`"
   ]
  },
  {
   "cell_type": "markdown",
   "metadata": {
    "id": "n1CAcdO69Qug"
   },
   "source": [
    "# **INSERT, UPDATE, DELETE (DML)**\n",
    "- `INSERT` is used to insert new rows into a table\n",
    "  - Insert a new instructor record with id 4 for Sandip Saha who lives in Edmonton, CA into the \"Instructor\" table.\n",
    "  - `INSERT INTO Instructor(ins_id, lastname, firstname, city, country)\n",
    "VALUES(4, 'Saha', 'Sandip', 'Edmonton', 'CA');`\n",
    "- ` UPDATE` is used to update the data in existing rows in the table\n",
    "  - Update the city for Sandip to Toronto\n",
    "  - `UPDATE Instructor \n",
    "SET city='Toronto' \n",
    "WHERE firstname=\"Sandip\";`\n",
    "- `DELETE` is used to remove rows from a table\n",
    "  - Remove the instructor record of Doe(name of the column) whose id is 6.\n",
    "  - `DELETE FROM instructor\n",
    "WHERE ins_id = 6;`"
   ]
  }
 ],
 "metadata": {
  "colab": {
   "name": "(Week 1) SQL for Data Science",
   "provenance": []
  },
  "kernelspec": {
   "display_name": "Python 3",
   "language": "python",
   "name": "python3"
  },
  "language_info": {
   "codemirror_mode": {
    "name": "ipython",
    "version": 3
   },
   "file_extension": ".py",
   "mimetype": "text/x-python",
   "name": "python",
   "nbconvert_exporter": "python",
   "pygments_lexer": "ipython3",
   "version": "3.8.8"
  }
 },
 "nbformat": 4,
 "nbformat_minor": 1
}
