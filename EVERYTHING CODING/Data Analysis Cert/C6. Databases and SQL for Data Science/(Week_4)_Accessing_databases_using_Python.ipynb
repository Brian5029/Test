{
 "cells": [
  {
   "cell_type": "markdown",
   "metadata": {
    "id": "9cKKZNx3VIi3"
   },
   "source": [
    "# **Concepts of Python DB API**\n",
    "- Connection Objects\n",
    "  - Database connections\n",
    "  - Manage transactions\n",
    "- Cursor Objects\n",
    "  - Database Queries\n",
    "  - Scroll through result set\n",
    "  - Retrieve results\n",
    "- Steps of Writing code using DB-API\n",
    "  - Create connection object\n",
    "  - Create cursor object\n",
    "  - Run Queries\n",
    "  - Close cursor and connection"
   ]
  },
  {
   "cell_type": "markdown",
   "metadata": {
    "id": "nytdJ3t7VIkw"
   },
   "source": [
    "# **Creating tables, loading data and querying data**"
   ]
  }
 ],
 "metadata": {
  "colab": {
   "name": "(Week 4) Accessing databases using Python",
   "provenance": []
  },
  "kernelspec": {
   "display_name": "Python 3",
   "language": "python",
   "name": "python3"
  },
  "language_info": {
   "codemirror_mode": {
    "name": "ipython",
    "version": 3
   },
   "file_extension": ".py",
   "mimetype": "text/x-python",
   "name": "python",
   "nbconvert_exporter": "python",
   "pygments_lexer": "ipython3",
   "version": "3.8.8"
  }
 },
 "nbformat": 4,
 "nbformat_minor": 1
}
