{
 "cells": [
  {
   "cell_type": "markdown",
   "metadata": {
    "id": "VaSpj6WzR19I"
   },
   "source": [
    "# **String Patterns and Ranges**\n",
    "- LIKE: Used with WHERE and searches string pattern predicate\n",
    "- % is used to represent characters. It can be used after or before the string\n",
    "  - `SELECT firstname FROM author WHERE firstname LIKE 'R%'`\n",
    "\n",
    "- BETWEEN: Used with WHERE and returns values between the two number\n",
    "  - `SELECT title, pages FROM book WHERE pages BETWEEN 290 and 300` \n",
    "\n",
    "- IN: Used with WHERE and returns values that are in the specified character\n",
    "  - `SELECT firstname, lastname, country FROM author WHERE country IN ('AB', 'CD,'EF')`"
   ]
  },
  {
   "cell_type": "markdown",
   "metadata": {
    "id": "VPmDPvEnR17J"
   },
   "source": [
    "# **SORT, GROUP**\n",
    "- ORDER BY: sorts the data\n",
    "  - `SELECT title from Book ORDER BY title` sorts in alphabetical order ascending\n",
    "  - `SELECT title from Book ORDER BY title DESC` for descending order\n",
    "  - `SELECT title from Book ORDER BY 2` sorts by ascending order by column 2\n",
    "\n",
    "- DISTINCT: Eliminates duplicates in the dataset\n",
    "  - `SELECT DISTINCT(country) FROM author`\n",
    "\n",
    "- GROUP BY: Groups the results into subsets that has matching value\n",
    "  - `SELECT country, count(country) FROM author GROUP BY country`\n",
    "  - `SELECT country, count(country) as Count_1 from author GROUP BY country` changes the counted column name to Count_1\n",
    "\n",
    "- HAVING: HAVING is used in combination with GROUP BY. Basically same as WHERE, picks specific rows.\n",
    "  - `SELECT country, count(country) as Count_1 from author GROUP BY country HAVING count(country) > 4` Only gives rows that has same country count that is > 4\n",
    " "
   ]
  },
  {
   "cell_type": "markdown",
   "metadata": {
    "id": "YkFAANnJR1_A"
   },
   "source": [
    "# **Built in Functions**\n",
    "- Aggregate Functions: Collects some or entire column and outputs a single value\n",
    "  - SUM(), MIN(), MAX(), AVG(), ETC\n",
    "- Scalar Functions: Performs operations on every single input value\n",
    "  - ROUND(), LENGTH(), UCASE(), LCASE()\n",
    "- Date and Time Functions: Retrieves data values\n",
    "  - Date format: YYYYMMDD\n",
    "  - Time format: HHMMSS\n",
    "  - DAY(date_column),\n",
    "  - Can also perform date or time arithmetic\n",
    "    - `SELECT (date_column + 3 DAYS) from TABLE`\n",
    "  "
   ]
  },
  {
   "cell_type": "markdown",
   "metadata": {
    "id": "ODLN7J2lR2BC"
   },
   "source": [
    "# **Sub-Queries and Nested Selects**\n",
    "- Sub-Query: A query inside another query\n",
    "  - SELECT COLUMN1 FROM TABLE WHERE COLUMN2 = `(SELECT MAX(COLUMN2) FROM TABLE)`\n",
    "- You cannot evaluate Aggregate functions like AVG() in without Sub queires.\n",
    "  - WRONG = `SELECT * FROM EMPLOYEES WHERE SALARY > AVG(SALARY)`\n",
    "  - CORRECT = `SELECT * FROM EMPLOYEES WHERE SALARY > (SELECT AVG(SALARY) FROM EMPLOYEES)`\n",
    "- Sub queries can also be used in list of columns like SELECT function (Column Expression)\n",
    "- Table expression: Temporary named result set table that you can reference\n",
    "  - `SELECT * FROM (SELECT EMP_ID, F_NAME, L_NAME) AS TEMP_TABLE` will return a table with only those 3 columns.\n"
   ]
  },
  {
   "cell_type": "markdown",
   "metadata": {
    "id": "AH2a1_qSR2C3"
   },
   "source": [
    "# **Querying Multiple Tables**\n",
    "- To retrieve only the list of employees from a specific location\n",
    "  - EMPLOYEES table does not contain location information\n",
    "  - Need to get location info elsewhere so, we use sub-queries to access other table\n",
    "\n",
    "   \n",
    "    SELECT * FROM employees\n",
    "    WHERE DEP_ID IN\n",
    "    (SELECT DEPT_ID_DEP FROM DEPARTMENTS\n",
    "    WHERE LOC_ID = 'L0002');\n",
    "\n",
    "- `WHERE DEP_ID in SELECT DEPT_ID_DEP` should link together.\n",
    "\n",
    "Another example: Retrieve the department ID and name for employees who earn more than $70,000.\n",
    "- DEPT_ID_DEP from departments has same value in DEP_ID from employees meaning they are related.\n",
    "\n",
    "\n",
    "    SELECT DEPT_ID_DEP, DEP_NAME from departments\n",
    "    WHERE DEPT_ID_DEP IN\n",
    "    (SELECT DEP_ID FROM employees\n",
    "    WHERE SALARY > 70000);\n",
    "  \n",
    "- Implicit Join will fully join the tables together next to each other (horizontal)\n",
    "  - `SELECT * FROM employees, departments`\n",
    "- To limit the result set you can use where clause to\n",
    "\n",
    "\n",
    "    SELECT * FROM employees, departments\n",
    "    WHERE employees.DEP_ID = departments.DEPT_ID_DEP\n",
    "  or to simplify\n",
    "    \n",
    "\n",
    "    SELECT * FROM employees E, departments D\n",
    "    WHERE E.DEP_ID = D.DEPT_ID_DEP\n",
    "\n",
    "\n",
    "\n"
   ]
  }
 ],
 "metadata": {
  "colab": {
   "name": "(Week 3) Refining your Results",
   "provenance": []
  },
  "kernelspec": {
   "display_name": "Python 3",
   "language": "python",
   "name": "python3"
  },
  "language_info": {
   "codemirror_mode": {
    "name": "ipython",
    "version": 3
   },
   "file_extension": ".py",
   "mimetype": "text/x-python",
   "name": "python",
   "nbconvert_exporter": "python",
   "pygments_lexer": "ipython3",
   "version": "3.8.8"
  }
 },
 "nbformat": 4,
 "nbformat_minor": 1
}
