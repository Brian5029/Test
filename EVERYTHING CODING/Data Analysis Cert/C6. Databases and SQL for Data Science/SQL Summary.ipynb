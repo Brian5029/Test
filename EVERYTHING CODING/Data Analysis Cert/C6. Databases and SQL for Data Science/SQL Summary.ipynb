{
 "cells": [
  {
   "cell_type": "markdown",
   "id": "6221a023",
   "metadata": {},
   "source": [
    "# DML (Data Manipulation Language)"
   ]
  },
  {
   "cell_type": "markdown",
   "id": "51bec9ec",
   "metadata": {},
   "source": [
    "### SELECT\n",
    "column1, column2, ...\n",
    "\n",
    "### FROM\n",
    "table_name\n",
    "\n",
    "### WHERE\n",
    "condition"
   ]
  },
  {
   "cell_type": "markdown",
   "id": "5c613e57",
   "metadata": {},
   "source": [
    "### INSERT\n",
    "is used to insert new rows into a table\n",
    "\n",
    "`INSERT INTO Instructor(ins_id, lastname, firstname, city, country)\n",
    "VALUES(4, 'Saha', 'Sandip', 'Edmonton', 'CA');`\n",
    "\n",
    "### UPDATE\n",
    "is used to update the data in existing rows in the table\n",
    "\n",
    " `UPDATE Instructor  \n",
    "SET city='Toronto' \n",
    "WHERE firstname=\"Sandip\";`\n",
    "\n",
    "### DELETE\n",
    "is used to remove rows from a table\n",
    "\n",
    "`DELETE FROM instructor\n",
    "WHERE ins_id = 6;`"
   ]
  },
  {
   "cell_type": "markdown",
   "id": "6d01f80e",
   "metadata": {},
   "source": [
    "### COUNT\n",
    "is an aggregate function that retrieves the number of rows that matches the query criteria.\n",
    "\n",
    "`SELECT COUNT(Locations)\n",
    "FROM FilmLocations\n",
    "WHERE Writer=\"James Cameron\";`\n",
    "\n",
    "### DISTINCT\n",
    "is used to remove duplicate values from a specified result set and only return the unique values\n",
    "\n",
    "`SELECT COUNT(DISTINCT Distributor)\n",
    "FROM FilmLocations\n",
    "WHERE Actor1=\"Clint Eastwood\";`\n",
    "\n",
    "### LIMIT\n",
    "is used for restricting the number of rows retrieved from the table\n",
    "\n",
    "`SELECT *\n",
    "FROM FilmLocations LIMIT 15 OFFSET 10;`"
   ]
  },
  {
   "cell_type": "markdown",
   "id": "a60bb8d7",
   "metadata": {},
   "source": [
    "# DDL (Data Definition Language)"
   ]
  },
  {
   "cell_type": "markdown",
   "id": "4048f01d",
   "metadata": {},
   "source": [
    "- Data types\n",
    "  - char(#): character string of a fixed length of #\n",
    "  - varchar(#): character string of a variable up to the specified #\n",
    "  - PRIMARY KEY: prevents duplicate value in each row (Should be used for Primary key\n",
    "  - NOT NULL: data must not contain NULL value"
   ]
  },
  {
   "cell_type": "markdown",
   "id": "61ea10a0",
   "metadata": {},
   "source": [
    "### CREATE\n",
    "creating tables and definding column\n",
    "\n",
    "`CREATE TABLE name (\n",
    "column_name1 datatype,\n",
    "column_name2 datatype,\n",
    "...\n",
    ")`\n",
    "\n",
    "### ALTER\n",
    "altering tables including adding, dropping and, modifying datas\n",
    "\n",
    "`ALTER TABLE table_name\n",
    "ADD COLUMN column_name data_type column_constraint;`\n",
    "  \n",
    "  \n",
    "`ALTER TABLE table_name\n",
    "DROP COLUMN column_name;`\n",
    "  \n",
    "  \n",
    "`ALTER TABLE table_name\n",
    "ALTER COLUMN column_name SET DATA TYPE data_type;`\n",
    "  \n",
    "  \n",
    "`ALTER TABLE table_name\n",
    "RENAME COLUMN current_column_name TO new_column_name;`\n",
    "\n",
    "\n",
    "### TRUNCATE\n",
    "deleting data in the table but not the table itself\n",
    "\n",
    "`TRUNCATE TABLE table_name;`\n",
    "\n",
    "### DROP\n",
    "deleting tables\n",
    "\n",
    "`DROP TABLE table_name;`"
   ]
  },
  {
   "cell_type": "markdown",
   "id": "e6141bad",
   "metadata": {},
   "source": [
    "# String Pattern and Ranges"
   ]
  },
  {
   "cell_type": "markdown",
   "id": "5854db57",
   "metadata": {},
   "source": [
    "- `%` is used to represent characters. It can be used after or before the string"
   ]
  },
  {
   "cell_type": "markdown",
   "id": "610e43b8",
   "metadata": {},
   "source": [
    "### LIKE\n",
    "is used with WHERE and searches string pattern predicate\n",
    "\n",
    "`SELECT firstname FROM author WHERE firstname LIKE \"R%\"`\n",
    "\n",
    "### BETWEEN\n",
    "Used with WHERE and returns values between the two number\n",
    "\n",
    "`SELECT title, pages FROM book WHERE pages BETWEEN 290 and 300`\n",
    "\n",
    "### IN\n",
    "Used with WHERE and returns values that are in the specified character\n",
    "\n",
    "`SELECT firstname, lastname, country FROM author WHERE country IN ('AB', 'CD,'EF')`\n",
    "\n",
    "### REPLACE\n",
    "Used to replaces the specified string with new substring\n",
    "\n",
    "`SELECT title, REPLACE(column_name, 'removal_string','new_string')`"
   ]
  },
  {
   "cell_type": "markdown",
   "id": "5cf23888",
   "metadata": {},
   "source": [
    "# SORT and GROUP\n",
    "\n",
    "### ORDER BY\n",
    "sorts the data\n",
    "\n",
    "`SELECT title from Book ORDER BY title` sorts in alphabetical order\n",
    "\n",
    "`SELECT title from Book ORDER BY title DESC` for descending order\n",
    "\n",
    "\n",
    "### DISTINCT\n",
    "Eliminates duplicates in the dataset\n",
    "\n",
    "`SELECT DISTINCT(country) FROM author`\n",
    "\n",
    "\n",
    "### GROUP BY\n",
    "Groups the results into subsets that has matching value\n",
    "\n",
    "`SELECT country, count(country) FROM author GROUP BY country`\n",
    "\n",
    "`SELECT country, count(country) as Count_1 from author GROUP BY country` changes the counted column name to Count_1\n",
    "\n",
    "\n",
    "### HAVING\n",
    "Is used in combination with GROUP BY. Basically same as WHERE, picks specific rows.\n",
    "\n",
    "`SELECT country, count(country) as Count_1 from author GROUP BY country HAVING count(country) > 4` Only gives rows that has same country count that is > 4"
   ]
  },
  {
   "cell_type": "markdown",
   "id": "9d361d18",
   "metadata": {},
   "source": [
    "# Built in Functions\n",
    "\n",
    "Aggregate Functions: Collects some or entire column and outputs a single value\n",
    "- SUM(), MIN(), MAX(), AVG(), ETC\n",
    "\n",
    "Scalar Functions: Performs operations on every single input value\n",
    "- ROUND(), LENGTH(), UCASE(), LCASE()"
   ]
  },
  {
   "cell_type": "markdown",
   "id": "dd51033a",
   "metadata": {},
   "source": []
  }
 ],
 "metadata": {
  "kernelspec": {
   "display_name": "Python 3",
   "language": "python",
   "name": "python3"
  },
  "language_info": {
   "codemirror_mode": {
    "name": "ipython",
    "version": 3
   },
   "file_extension": ".py",
   "mimetype": "text/x-python",
   "name": "python",
   "nbconvert_exporter": "python",
   "pygments_lexer": "ipython3",
   "version": "3.8.8"
  }
 },
 "nbformat": 4,
 "nbformat_minor": 5
}
