{
 "cells": [
  {
   "cell_type": "markdown",
   "id": "c6487971",
   "metadata": {},
   "source": [
    "# Filter\n",
    "- Gives data filtering option on every column\n",
    "- Can custimze filter by clicking 'number filter' in filter drop-down\n",
    "\n",
    "# Sorting\n",
    "- Can sort data in order/descending or custamize to multiple sorting rules\n",
    "\n",
    "# IF or IFS\n",
    "- Create new column\n",
    "- `=IF(AE2=\"Complete\",\"Yes\",\"No\")` if cell ae2 is value 'Complete' then print 'Yes' otherwise print 'No'\n",
    "\n",
    "Multiple condition\n",
    "\n",
    "- `=IFS(AD2>300,\"Large\",AD2>100,\"Medium\",AD2>0,\"Small\")` if cell ad2 is greater than 300 print Large if cell ad is greater 100...\n",
    "\n",
    "# COUNTIF\n",
    "- Counts the number of cells that meet a specified criteria\n",
    "- `=COUNTIF(N2:N195,\"VISA\")` view through N2:195 and count the cells that has the value \"VISA\"\n",
    "\n",
    "# SUMIF or SUMIFS\n",
    "- `=SUMIF(E2:E115, '>3000')` sum the values of E2:E115 that is greater than 3000\n",
    "- `=SUMIF(AE2:AE195,\"Large\", AD2:AD195)` Sums the number values in column AD IF column AE has the value \"Large\" \n",
    "    - `=SUMIF(range, criteria, [sum range])`\n",
    "    \n",
    "Multiple condition\n",
    "\n",
    "- `=SUMIFS(AD2:AD195, AE2:AE195,\"Large\", AL2:AL195,\"*BABY_BOOMERS*\")` Sums the number values in column AD IF the multiple critera meet.\n",
    "    - `=SUMIFS([sum range], range1, criteria1, range2, criteria2, ...)`\n",
    "    \n",
    "# VLOOKUP \n",
    "- VLOOKUP looking up value must located at the far left column of the specified range table.\n",
    "- So Value L3 must locate in Column C\n",
    "- `True` is APPROX match and `FALSE` is EXACT match. APPROX meaning if looking up the value 'Jennifer' and the name Jenn is in the column, that is APPROX.\n",
    "- `=VLOOKUP(L3, C2:I113, 7, FALSE)` Look for the value L3 in range C2:I113 and return value in column 7.\n",
    "    - `=VLOOKUP (value, table, col_index, [range_lookup])`\n",
    "- If value L3 exists in many rows, it will only give result that matches the very first row. \n",
    "- example. If the name Matt exists in A1 and A6 with different value, it will only give value in A1 row because it came up first.\n",
    "    \n",
    "# HLOOKUP\n",
    "- Works the same way as VLOOKUP\n",
    "- Only mainly used when the data is written horizontally\n",
    "\n",
    "# Pivot Table\n",
    "Pivot tables provides simple way to summarize and analyze data. When data changes, so does pivot table.\n",
    "- First convert the data into a table to use pivot table\n",
    "- Remove any blank rows, columns, cells and are formatted correctly accordingly (values as numbers and date as date format, etc.) when using pivot table.\n",
    "- Can also create calculation column by going to PivotTable Analyze > Calculations.\n",
    "- Can filter the pivot table by clicking Row Labels dropdown at the top of the pivot table\n",
    "\n",
    "# Slicing in Pivot Table\n",
    "Slicers are on graphical screen filtering object that allows you to filter pivot table using buttons\n",
    "- Slice and Timeline is under PivotTable Analyze > Filters\n",
    "- Slices can filter through datas you click on \n",
    "- Timeline will only display the values within the timeline"
   ]
  }
 ],
 "metadata": {
  "kernelspec": {
   "display_name": "Python 3",
   "language": "python",
   "name": "python3"
  },
  "language_info": {
   "codemirror_mode": {
    "name": "ipython",
    "version": 3
   },
   "file_extension": ".py",
   "mimetype": "text/x-python",
   "name": "python",
   "nbconvert_exporter": "python",
   "pygments_lexer": "ipython3",
   "version": "3.8.8"
  }
 },
 "nbformat": 4,
 "nbformat_minor": 5
}
