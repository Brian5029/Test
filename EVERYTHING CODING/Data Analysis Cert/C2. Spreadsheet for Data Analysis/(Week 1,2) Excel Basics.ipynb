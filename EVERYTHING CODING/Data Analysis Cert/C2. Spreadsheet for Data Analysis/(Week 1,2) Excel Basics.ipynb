{
 "cells": [
  {
   "cell_type": "markdown",
   "id": "95dacd7d",
   "metadata": {},
   "source": [
    "\n",
    "### Split\n",
    "- To see several cells at the same time\n",
    "\n",
    "### Freeze\n",
    "- To always keep the specified cells in place to view\n",
    "\n",
    "### Switch Windows\n",
    "- quickly switches to another excel opened windows\n",
    "\n",
    "### CTR+N\n",
    "- To quickly create new worksheet window\n",
    "\n",
    "### CTR+SHIFT+UP, DOWN, Left, Right\n",
    "- Selects all columns or rows\n",
    "\n",
    "### Tips\n",
    "- You can insert new column by right clicking on column\n",
    "- you can fit all the letters by clicking column/columns and double clicking the cell line"
   ]
  },
  {
   "cell_type": "markdown",
   "id": "dc353e6c",
   "metadata": {},
   "source": [
    "- Can copy paste cells/cells\n",
    "- Autofill days/week/month/etc.\n",
    "- Can change autofill sequence by clicking multiple cells ex. 5, 10 will autofill 15, 20, ...\n",
    "- Can change format/styles of the cells Home ribbon. Filling in cells, Changing data format, etc.\n",
    "- Can doubleclick autofill to fill the remainer columns for given formula\n"
   ]
  },
  {
   "cell_type": "markdown",
   "id": "9b227b4a",
   "metadata": {},
   "source": [
    "### Basic Formula\n",
    "- `=` starts the formula\n",
    "- =SUM('Cell reference * constant)\n",
    "- =SUM(B5+12) adds B5 with 12\n",
    "- =SUM(B1,B2) adds B1 and B2\n",
    "- =SUM(B1:B4) adds B1, B2, B3, B4\n",
    "- You can autofill to copy the formula. Formula data changes relational to the cell reference\n",
    "You can click and drag the values u want to calculate\n",
    "\n",
    "### Cell Refernce\n",
    "- Cells by default uses relative references when datas are inputed\n",
    "- When it cells are references, it allows you to use autofill referenced to that specific cell\n",
    "- Absolute refernces always stays the same even when its copied\n",
    "- Mixed references has relative and absoulte reference. One stays the same while one don't\n",
    "- Relative `=A1+A2'\n",
    "- Absolute `=$A$1+$A$3`\n",
    "- Mixed `=$A$1+$A3` A3 is relative and will change while A1 will not change"
   ]
  }
 ],
 "metadata": {
  "kernelspec": {
   "display_name": "Python 3",
   "language": "python",
   "name": "python3"
  },
  "language_info": {
   "codemirror_mode": {
    "name": "ipython",
    "version": 3
   },
   "file_extension": ".py",
   "mimetype": "text/x-python",
   "name": "python",
   "nbconvert_exporter": "python",
   "pygments_lexer": "ipython3",
   "version": "3.8.8"
  }
 },
 "nbformat": 4,
 "nbformat_minor": 5
}
