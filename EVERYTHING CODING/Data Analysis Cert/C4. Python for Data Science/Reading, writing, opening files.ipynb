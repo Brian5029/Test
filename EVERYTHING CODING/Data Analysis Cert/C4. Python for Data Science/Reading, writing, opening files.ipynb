{
 "cells": [
  {
   "cell_type": "markdown",
   "id": "95f1a0c4",
   "metadata": {},
   "source": [
    "# Python open function\n",
    "Files_object = open('file_name or file_path','mode')\n",
    "modes\n",
    "- r: to read\n",
    "- w: to write\n",
    "- a: to append\n",
    "- r+: to read and write\n",
    "- a+: to read and append\n",
    "\n",
    "`with` closes the file automatically"
   ]
  },
  {
   "cell_type": "code",
   "execution_count": 43,
   "id": "d23df5ad",
   "metadata": {},
   "outputs": [
    {
     "name": "stdout",
     "output_type": "stream",
     "text": [
      "line A\n",
      "line B\n",
      "line C\n",
      "this sentence is appendedthis sentence is appended and will not overwrite\n",
      "this sentence is appended and will not overwrite\n",
      "\n"
     ]
    }
   ],
   "source": [
    "with open('practice.txt', 'r') as file_practice:\n",
    "    file_content = file_practice.read()\n",
    "    print(file_content)"
   ]
  },
  {
   "cell_type": "code",
   "execution_count": 44,
   "id": "f543ca9c",
   "metadata": {},
   "outputs": [
    {
     "name": "stdout",
     "output_type": "stream",
     "text": [
      "line A\n",
      "line B\n",
      "line C\n",
      "this sentence is appendedthis sentence is appended and will not overwrite\n",
      "this sentence is appended and will not overwrite\n",
      "\n"
     ]
    }
   ],
   "source": [
    "with open('practice.txt', 'r') as file_practice:\n",
    "    print(file_practice.read())"
   ]
  },
  {
   "cell_type": "code",
   "execution_count": 45,
   "id": "3431391a",
   "metadata": {},
   "outputs": [
    {
     "name": "stdout",
     "output_type": "stream",
     "text": [
      "line A\n",
      "\n"
     ]
    }
   ],
   "source": [
    "with open('practice.txt', 'r') as file_practice:\n",
    "    print(file_practice.readline())"
   ]
  },
  {
   "cell_type": "code",
   "execution_count": 46,
   "id": "c2f5c075",
   "metadata": {},
   "outputs": [
    {
     "name": "stdout",
     "output_type": "stream",
     "text": [
      "line A\n",
      "\n",
      "line B\n",
      "\n",
      "line C\n",
      "\n",
      "this sentence is appendedthis sentence is appended and will not overwrite\n",
      "\n",
      "this sentence is appended and will not overwrite\n",
      "\n"
     ]
    }
   ],
   "source": [
    "with open('practice.txt', 'r') as file_practice:\n",
    "    for line in file_practice:\n",
    "        print(line)"
   ]
  },
  {
   "cell_type": "code",
   "execution_count": 30,
   "id": "6803ff84",
   "metadata": {},
   "outputs": [],
   "source": [
    "with open('practice.txt','w') as file_practice:\n",
    "    file_practice.write('this will overwrite everything\\nthis is new line\\n')\n",
    "    file_practice.write('this is another line')"
   ]
  },
  {
   "cell_type": "code",
   "execution_count": 31,
   "id": "c9b340f5",
   "metadata": {},
   "outputs": [],
   "source": [
    "#remember new write `with` code will overwrite everything\n",
    "lines=['line A\\n','line B\\n','line C\\n']\n",
    "with open('practice.txt','w') as file_practice:\n",
    "    for line in lines:\n",
    "        file_practice.write(line)"
   ]
  },
  {
   "cell_type": "code",
   "execution_count": 34,
   "id": "12dc81df",
   "metadata": {},
   "outputs": [],
   "source": [
    "with open('practice.txt','a') as file_practice:\n",
    "    file_practice.write('this sentence is appended and will not overwrite\\n')"
   ]
  }
 ],
 "metadata": {
  "kernelspec": {
   "display_name": "Python 3",
   "language": "python",
   "name": "python3"
  },
  "language_info": {
   "codemirror_mode": {
    "name": "ipython",
    "version": 3
   },
   "file_extension": ".py",
   "mimetype": "text/x-python",
   "name": "python",
   "nbconvert_exporter": "python",
   "pygments_lexer": "ipython3",
   "version": "3.8.8"
  }
 },
 "nbformat": 4,
 "nbformat_minor": 5
}
