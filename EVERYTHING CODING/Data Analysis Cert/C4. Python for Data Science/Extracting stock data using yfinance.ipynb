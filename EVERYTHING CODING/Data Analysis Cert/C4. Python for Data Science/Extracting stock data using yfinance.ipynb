{
 "cells": [
  {
   "cell_type": "code",
   "execution_count": null,
   "id": "591199bd",
   "metadata": {},
   "outputs": [],
   "source": [
    "!pip install yfinance==0.1.67"
   ]
  },
  {
   "cell_type": "code",
   "execution_count": 1,
   "id": "88e70ebe",
   "metadata": {},
   "outputs": [],
   "source": [
    "import yfinance as yf\n",
    "import pandas as pd"
   ]
  },
  {
   "cell_type": "code",
   "execution_count": null,
   "id": "873f2a63",
   "metadata": {},
   "outputs": [],
   "source": [
    "apple = yf.Ticker(\"AAPL\")\n",
    "apple_info=apple.info\n",
    "apple_info"
   ]
  },
  {
   "cell_type": "code",
   "execution_count": null,
   "id": "42e9863e",
   "metadata": {},
   "outputs": [],
   "source": [
    "apple_info['country']"
   ]
  },
  {
   "cell_type": "markdown",
   "id": "6c522451",
   "metadata": {},
   "source": [
    "The options for `period` are 1 day (1d), 5d, 1 month (1mo) , 3mo, 6mo, 1 year (1y), 2y, 5y, 10y, ytd, and max"
   ]
  },
  {
   "cell_type": "code",
   "execution_count": null,
   "id": "e97529c9",
   "metadata": {},
   "outputs": [],
   "source": [
    "apple_share_price_data = apple.history(period=\"max\")\n",
    "apple_share_price_data"
   ]
  },
  {
   "cell_type": "markdown",
   "id": "90bfe80f",
   "metadata": {},
   "source": [
    "Reset the index"
   ]
  },
  {
   "cell_type": "code",
   "execution_count": null,
   "id": "ebc65b69",
   "metadata": {},
   "outputs": [],
   "source": [
    "apple_share_price_data.reset_index(inplace=True)\n",
    "apple_share_price_data"
   ]
  },
  {
   "cell_type": "markdown",
   "id": "26456291",
   "metadata": {},
   "source": [
    "Plotting data"
   ]
  },
  {
   "cell_type": "code",
   "execution_count": null,
   "id": "be79e9eb",
   "metadata": {},
   "outputs": [],
   "source": [
    "apple_share_price_data.plot(x=\"Date\", y=\"Open\")"
   ]
  },
  {
   "cell_type": "code",
   "execution_count": null,
   "id": "b80e7561",
   "metadata": {},
   "outputs": [],
   "source": [
    "apple.dividends"
   ]
  },
  {
   "cell_type": "code",
   "execution_count": null,
   "id": "567a9580",
   "metadata": {},
   "outputs": [],
   "source": [
    "apple.dividends.plot()"
   ]
  },
  {
   "cell_type": "markdown",
   "id": "c8728a7d",
   "metadata": {},
   "source": [
    "# Practice"
   ]
  },
  {
   "cell_type": "code",
   "execution_count": null,
   "id": "4f92a5f7",
   "metadata": {},
   "outputs": [],
   "source": [
    "amd = yf.Ticker(\"AMD\")\n",
    "amd_info=amd.info\n",
    "amd_info"
   ]
  },
  {
   "cell_type": "code",
   "execution_count": null,
   "id": "663723c4",
   "metadata": {},
   "outputs": [],
   "source": [
    "amd_info['country']"
   ]
  },
  {
   "cell_type": "code",
   "execution_count": null,
   "id": "2dbd5dc1",
   "metadata": {},
   "outputs": [],
   "source": [
    "amd_info['sector']"
   ]
  },
  {
   "cell_type": "code",
   "execution_count": null,
   "id": "1e6181c4",
   "metadata": {},
   "outputs": [],
   "source": [
    "amd_share_price_data = amd.history(period='max')\n",
    "amd_share_price_data"
   ]
  },
  {
   "cell_type": "code",
   "execution_count": null,
   "id": "f75ae47b",
   "metadata": {},
   "outputs": [],
   "source": [
    "amd_share_price_data.reset_index(inplace=True)\n",
    "amd_share_price_data"
   ]
  },
  {
   "cell_type": "code",
   "execution_count": null,
   "id": "7314a01c",
   "metadata": {},
   "outputs": [],
   "source": [
    "amd_share_price_data.loc[0, 'Volume']"
   ]
  },
  {
   "cell_type": "code",
   "execution_count": null,
   "id": "04d90940",
   "metadata": {},
   "outputs": [],
   "source": [
    " "
   ]
  }
 ],
 "metadata": {
  "kernelspec": {
   "display_name": "Python 3",
   "language": "python",
   "name": "python3"
  },
  "language_info": {
   "codemirror_mode": {
    "name": "ipython",
    "version": 3
   },
   "file_extension": ".py",
   "mimetype": "text/x-python",
   "name": "python",
   "nbconvert_exporter": "python",
   "pygments_lexer": "ipython3",
   "version": "3.8.8"
  }
 },
 "nbformat": 4,
 "nbformat_minor": 5
}
