{
 "cells": [
  {
   "cell_type": "markdown",
   "id": "985de6f9",
   "metadata": {},
   "source": [
    "sorted(list_name)\n",
    ".index\n",
    "\n",
    "set(list_name) set cannot have duplicates {}\n",
    "you can compare two sets by `set_1 & set_2` this will give set results of the overlapping value.\n",
    "`set_1.union(set_2)` will combine the sets but only returning unique value with no duplicates.\n",
    "`set_1.difference(set2)` returns set of different values\n",
    "\n",
    "methods are functions that interact with data objects. (string, list, dict, ...) object.method()"
   ]
  },
  {
   "cell_type": "code",
   "execution_count": 1,
   "id": "8c622f9d",
   "metadata": {},
   "outputs": [
    {
     "data": {
      "text/plain": [
       "['abc', 10, ['1', 2]]"
      ]
     },
     "execution_count": 1,
     "metadata": {},
     "output_type": "execute_result"
    }
   ],
   "source": [
    "x = ['abc',10]\n",
    "x.append(['1',2])\n",
    "x"
   ]
  },
  {
   "cell_type": "code",
   "execution_count": 3,
   "id": "02e1bef6",
   "metadata": {},
   "outputs": [
    {
     "data": {
      "text/plain": [
       "['abc', 10, '1', 2]"
      ]
     },
     "execution_count": 3,
     "metadata": {},
     "output_type": "execute_result"
    }
   ],
   "source": [
    "y = ['abc',10]\n",
    "y.extend(['1',2])\n",
    "y"
   ]
  },
  {
   "cell_type": "code",
   "execution_count": 4,
   "id": "836f3fc3",
   "metadata": {},
   "outputs": [
    {
     "data": {
      "text/plain": [
       "['abc', 10, '1', 2]"
      ]
     },
     "execution_count": 4,
     "metadata": {},
     "output_type": "execute_result"
    }
   ],
   "source": [
    "['abc',10] + ['1',2]"
   ]
  },
  {
   "cell_type": "code",
   "execution_count": 11,
   "id": "28c2ee6a",
   "metadata": {},
   "outputs": [
    {
     "name": "stdout",
     "output_type": "stream",
     "text": [
      "0 a\n",
      "1 b\n",
      "2 c\n"
     ]
    }
   ],
   "source": [
    "for x,y in enumerate(['a','b','c']):   #x gives index and y gives value\n",
    "    print(x,y)"
   ]
  },
  {
   "cell_type": "code",
   "execution_count": null,
   "id": "911990c2",
   "metadata": {},
   "outputs": [],
   "source": [
    "try:\n",
    "    # code to try to execute\n",
    "except ZeroDivisionError:                                  #or (ZeroDivisionErroe, NameError, ...)\n",
    "    # code to execute if there is a ZeroDivisionError\n",
    "except NameError:\n",
    "    # code to execute if there is a NameError\n",
    "except:\n",
    "    # code to execute if ther is any exception\n",
    "else:\n",
    "    # code to execute if there is no exception\n",
    "finally:\n",
    "    # code to execute at the end of the try except no matter what"
   ]
  },
  {
   "cell_type": "markdown",
   "id": "218d06bb",
   "metadata": {},
   "source": [
    "# Class"
   ]
  },
  {
   "cell_type": "code",
   "execution_count": 45,
   "id": "ff9dfc7d",
   "metadata": {},
   "outputs": [],
   "source": [
    "class Circle(object): \n",
    "    def __init__(self, radius, color):\n",
    "        self.radius=radius;\n",
    "        self.color=color;\n",
    "        \n",
    "    def add_radius(self,r):\n",
    "        self.radius=self.radius + r;"
   ]
  },
  {
   "cell_type": "code",
   "execution_count": 46,
   "id": "184b29d2",
   "metadata": {},
   "outputs": [],
   "source": [
    "variable_name = Circle(10, 'red')"
   ]
  },
  {
   "cell_type": "code",
   "execution_count": 47,
   "id": "624371a7",
   "metadata": {},
   "outputs": [
    {
     "data": {
      "text/plain": [
       "10"
      ]
     },
     "execution_count": 47,
     "metadata": {},
     "output_type": "execute_result"
    }
   ],
   "source": [
    "variable_name.radius"
   ]
  },
  {
   "cell_type": "code",
   "execution_count": 48,
   "id": "bea54e39",
   "metadata": {},
   "outputs": [
    {
     "data": {
      "text/plain": [
       "'red'"
      ]
     },
     "execution_count": 48,
     "metadata": {},
     "output_type": "execute_result"
    }
   ],
   "source": [
    "variable_name.color"
   ]
  },
  {
   "cell_type": "code",
   "execution_count": 55,
   "id": "88176d66",
   "metadata": {},
   "outputs": [
    {
     "data": {
      "text/plain": [
       "25"
      ]
     },
     "execution_count": 55,
     "metadata": {},
     "output_type": "execute_result"
    }
   ],
   "source": [
    "variable_name.add_radius(3)\n",
    "variable_name.radius"
   ]
  },
  {
   "cell_type": "code",
   "execution_count": null,
   "id": "ac5045db",
   "metadata": {},
   "outputs": [],
   "source": []
  }
 ],
 "metadata": {
  "kernelspec": {
   "display_name": "Python 3",
   "language": "python",
   "name": "python3"
  },
  "language_info": {
   "codemirror_mode": {
    "name": "ipython",
    "version": 3
   },
   "file_extension": ".py",
   "mimetype": "text/x-python",
   "name": "python",
   "nbconvert_exporter": "python",
   "pygments_lexer": "ipython3",
   "version": "3.8.8"
  }
 },
 "nbformat": 4,
 "nbformat_minor": 5
}
