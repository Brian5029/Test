{
 "cells": [
  {
   "cell_type": "markdown",
   "id": "44acace7",
   "metadata": {},
   "source": [
    "# Charts\n",
    "Select the columns and go to insert and click on the desired chart\n",
    "\n",
    "- Line chart: compare different but related data sets and displays trends (usually time in x axis)\n",
    "- Pie chart: shows the breakdown of an entity into sub-parts\n",
    "- Bar chart: good for comparing related data sets\n",
    "- Column chart: shows change over time and can compare values side-by-side\n",
    "- Treemaps: compare values across hierachy levels and a `good way to display lots of data`\n",
    "- Scatter chart: compare two sets of `numerical data` and shows relationships between them\n",
    "- histogram: shows distribution of data grouped into bins (usually frequency is in y axis) how often it occurs\n",
    "- filled map chart: best with data containing geographical regions\n",
    "you mainly edit charts by clicking the buttons on the right\n",
    "\n",
    "# Dashboard\n",
    "They are basically key information datas summarized in a visual way. Before creating, you should\n",
    "- Organize data\n",
    "- verify the data such ass no blank rows, spelling check, etc.\n",
    "- format the data as table\n",
    "- create pivote table\n",
    "- create visualizations\n",
    "\n",
    "after all visualizations are created, create a dashboard worksheet and put all visualization there.\n",
    "\n",
    "(go to view > show and remove gridlines, headings, etc to make it more clean)"
   ]
  },
  {
   "cell_type": "markdown",
   "id": "df1a7e91",
   "metadata": {},
   "source": []
  }
 ],
 "metadata": {
  "kernelspec": {
   "display_name": "Python 3",
   "language": "python",
   "name": "python3"
  },
  "language_info": {
   "codemirror_mode": {
    "name": "ipython",
    "version": 3
   },
   "file_extension": ".py",
   "mimetype": "text/x-python",
   "name": "python",
   "nbconvert_exporter": "python",
   "pygments_lexer": "ipython3",
   "version": "3.8.8"
  }
 },
 "nbformat": 4,
 "nbformat_minor": 5
}
