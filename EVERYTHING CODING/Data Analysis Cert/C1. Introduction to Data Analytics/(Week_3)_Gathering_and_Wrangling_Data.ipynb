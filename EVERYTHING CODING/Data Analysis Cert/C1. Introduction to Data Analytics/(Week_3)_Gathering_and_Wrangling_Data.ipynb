{
 "cells": [
  {
   "cell_type": "markdown",
   "metadata": {
    "id": "0lJ44KshXgkh"
   },
   "source": [
    "# **Process of identifying data**"
   ]
  },
  {
   "cell_type": "markdown",
   "metadata": {
    "id": "pktKZIQnXhap"
   },
   "source": [
    "- Determine the information you want to collect, specific information or possible sources for the data\n",
    "- Define a plan for collecting data. Establish a timeframe for collecting data and the amount you will be collecting\n",
    "- Determine the data collection method. The types and the sources"
   ]
  },
  {
   "cell_type": "markdown",
   "metadata": {
    "id": "zpEe6WA3Xheh"
   },
   "source": [
    "# **Data Sources**"
   ]
  },
  {
   "cell_type": "markdown",
   "metadata": {
    "id": "u4IIBYeMXhgT"
   },
   "source": [
    "- Data sources includ Primary, Secondary, Third-party.\n",
    "  - Primary refers to information obtained directly from the source. (Data from surverys, Company's application, etc)\n",
    "  - Secondary data refers to information retrieved from existing source. (Internet searches, public information, etc)\n",
    "  - Third party referes to datas bought from companies who create datas to profit."
   ]
  },
  {
   "cell_type": "markdown",
   "metadata": {
    "id": "EeooUUVdXhiR"
   },
   "source": [
    "# **Gather and Import Datas**"
   ]
  },
  {
   "cell_type": "markdown",
   "metadata": {
    "id": "o_D3ganqXhkY"
   },
   "source": [
    "- API is used to extract data from website\n",
    "- Web scraping is for downloading specific data from web pages such as images, videos, podcasts.\n",
    "- Sensor data is for aggregating constant streams of data flowing.\n",
    "- Data identified and gathered are moved into `Data Repository` before it can be analyized"
   ]
  },
  {
   "cell_type": "markdown",
   "metadata": {
    "id": "gDcI832HXhmD"
   },
   "source": [
    "# **Data Wrangling**\n",
    "data wrangling is iterative process that makes data available for meaningful analysis\n"
   ]
  },
  {
   "cell_type": "markdown",
   "metadata": {
    "id": "s1Tn7yfmXhp8"
   },
   "source": [
    "Steps of Data Wrangling\n",
    "- Discovery\n",
    "- Transformation, the transformation phase includes\n",
    "  - Structuring data (Joining two tables)\n",
    "  - Normalize data, that is, clean the database of unused and redundant data.\n",
    "  - Denormalize data, that is, combine data from multiple tables into a single table so that it can be queried faster. \n",
    "  - Cleaning, Finding out possible missing, inaccurate, null datas\n",
    "  - Enriching by adding more datas that could help the analysis\n",
    "- Validation\n",
    "- Publishing"
   ]
  },
  {
   "cell_type": "markdown",
   "metadata": {
    "id": "UsY4kkh7Xhry"
   },
   "source": [
    "# **Tools for Data Wrangling**"
   ]
  },
  {
   "cell_type": "markdown",
   "metadata": {
    "id": "6-Xn3qVRXhtr"
   },
   "source": [
    "- Excel/Spreadsheets\n",
    "  - Has many built in feature\n",
    "  - Used for manual wrangling\n",
    "- OpenRefine\n",
    "  - can import and export data such as tsv,csv,json, etc\n",
    "  - can transform datas into different format and extend the data.\n",
    "- Google DataPrep\n",
    "  - can visually explore and clean structured and unstrucured data\n",
    "  - automatically detect schemas and data types.\n",
    "- Python\n",
    "  - Has bunch of library that helps data wrangle\n"
   ]
  },
  {
   "cell_type": "markdown",
   "metadata": {
    "id": "7vA_LixKXhvr"
   },
   "source": [
    ""
   ]
  },
  {
   "cell_type": "markdown",
   "metadata": {
    "id": "5F6Dc_5XXgmk"
   },
   "source": [
    ""
   ]
  },
  {
   "cell_type": "markdown",
   "metadata": {
    "id": "xKGxaWX9XgoV"
   },
   "source": [
    ""
   ]
  },
  {
   "cell_type": "markdown",
   "metadata": {
    "id": "2Nsr_FJXXgsR"
   },
   "source": [
    ""
   ]
  },
  {
   "cell_type": "markdown",
   "metadata": {
    "id": "8nvb3smdXgt5"
   },
   "source": [
    ""
   ]
  },
  {
   "cell_type": "markdown",
   "metadata": {
    "id": "iAs5p484Xgvp"
   },
   "source": [
    ""
   ]
  },
  {
   "cell_type": "markdown",
   "metadata": {
    "id": "k7k4-KXzXgxR"
   },
   "source": [
    ""
   ]
  }
 ],
 "metadata": {
  "colab": {
   "name": "(Week 3) Gathering and Wrangling Data",
   "provenance": []
  },
  "kernelspec": {
   "display_name": "Python 3",
   "name": "python3"
  },
  "language_info": {
   "name": "python"
  }
 },
 "nbformat": 4,
 "nbformat_minor": 0
}
