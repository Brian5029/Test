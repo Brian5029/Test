{
 "cells": [
  {
   "cell_type": "markdown",
   "metadata": {
    "id": "bzwm6g2OLCdi"
   },
   "source": [
    "# **Statistical Analysis**\n",
    "Statistical Analysis is a application of methods to sample data in order to understand what the data is representing\n",
    "- `Sample` is a representative selection drawn from total population\n",
    "-`Population` is a group of things that can be identified by some common characteristic"
   ]
  },
  {
   "cell_type": "markdown",
   "metadata": {
    "id": "URc6HUf-LCgG"
   },
   "source": [
    "# **Types of Statistics**\n",
    "- Descriptive statistics is summarizing information about the sample. Some of the common measures are\n",
    "  - Central Tendency: Locating center of a data sample such as mean median mode\n",
    "  - Dispersion: Measure of variability (lack of consistency) in a dataset such as variance, standard deviation, range. Measures how far the values are to the central value\n",
    "  - Skewness is a measure of whether the distribution of values is symmetrical around a central value\n",
    "- Inferential statistics is making generalizations about the population by taking sample. Some common methods are\n",
    "  - Hypothesis Testing\n",
    "  - Confidence Intervals\n",
    "  - Regression Analysis"
   ]
  },
  {
   "cell_type": "markdown",
   "metadata": {
    "id": "4sigOlcILCiX"
   },
   "source": [
    "# **Data Mining**\n",
    "- The process of extracting knowledge from data\n",
    "  - Pattern recognition\n",
    "  - statistical analysis\n",
    "  - mathematical techniques\n",
    "- Data Mining Techniques\n",
    "  - Classification: classifying attribues into categories such as classifying customers by how much they are spending\n",
    "  - Clustering: Grouping data into cluster so they can be treated as group\n",
    "  - Outlier Detection: Finding patterns in data that is nor normal\n",
    "  - Association Rule Mining: Establishing relationship between two data events\n",
    "  - Sequential Patterns: Tracing a series of event that take in place in sequence. For example, tracking shoppers purchase items in order\n",
    "  - Decision trees- Building classification model where each branch represents a probable occurrence\n",
    "  - Regression: Identifying the relationship between two variable.\n",
    "\n"
   ]
  },
  {
   "cell_type": "markdown",
   "metadata": {
    "id": "lr_1X0IHLCkQ"
   },
   "source": [
    "# **Data Visualizations**\n",
    "picking the right data visualizations by asking questions\n",
    "- What should be the key takeway\n",
    "- What does my audience need to know\n",
    "- What are the questions they have\n",
    "\n",
    "Common types of graphs\n",
    "- Bar charts: comparing related data sets\n",
    "- Column charts: compare values side by side to show change over time\n",
    "- Pie charts: show breakdown of an entitiy into sub-parts\n",
    "- Line charts: displays trends and shows how data value is changing relation to other variable.\n",
    "- Dashboards: Organize and display reports and visualizations coming from multiple data sources into one big interface.\n"
   ]
  },
  {
   "cell_type": "markdown",
   "metadata": {
    "id": "IifpcwaJLCmQ"
   },
   "source": [
    ""
   ]
  }
 ],
 "metadata": {
  "colab": {
   "name": "(Week 4) Overview of Statistical Analysis",
   "provenance": []
  },
  "kernelspec": {
   "display_name": "Python 3",
   "name": "python3"
  },
  "language_info": {
   "name": "python"
  }
 },
 "nbformat": 4,
 "nbformat_minor": 0
}
