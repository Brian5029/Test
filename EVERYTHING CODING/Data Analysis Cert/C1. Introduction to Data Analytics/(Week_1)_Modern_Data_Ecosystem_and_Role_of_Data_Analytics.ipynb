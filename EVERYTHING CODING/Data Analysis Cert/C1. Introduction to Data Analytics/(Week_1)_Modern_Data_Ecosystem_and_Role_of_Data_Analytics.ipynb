{
 "cells": [
  {
   "cell_type": "markdown",
   "metadata": {
    "id": "CHOk0IYTAmnk"
   },
   "source": [
    "# **Key players in Data Ecosystem**\n",
    "- `Data engineering` convert raw data into usable data\n",
    "- `Data analytics` use this data to generate insights\n",
    "- `Data scientists` use data analytics and data engineering to predict future\n",
    "- `Business analysts` and BI analysts use these insights and predictions to make decisions that benefit the business\n"
   ]
  },
  {
   "cell_type": "markdown",
   "metadata": {
    "id": "IZfQPRCXAt11"
   },
   "source": [
    "# **Data Analysis Process**\n",
    "- Understanding the problem and desired result\n",
    "- Deciding what will be measured and how it will be measured\n",
    "- Identify the sources and best tools to gather required datas\n",
    "- Gathering, cleaning, analyzing, and mining data to interpret results. \n",
    "- Communicating the findings in ways that impact decision-making"
   ]
  },
  {
   "cell_type": "markdown",
   "metadata": {
    "id": "Ckl5whKnAyhs"
   },
   "source": [
    "# **Four primary types of Data Analysis**\n",
    "- `Descriptive Analytics` that helps decode “What happened.” \n",
    "- `Diagnostic Analytics` that helps us understand “Why it happened.” \n",
    "- `Predictive Analytics` that analyzes historical data and trends to suggest “What will happen next.” \n",
    "- `Prescriptive Analytics` that prescribes “What should be done next.”"
   ]
  },
  {
   "cell_type": "markdown",
   "metadata": {
    "id": "xmzICIPbAyk0"
   },
   "source": [
    "# **Responsibilites of Data Analyst**\n",
    "- Technical Skills such as spreadsheets, data visualization tools, programming language, SQL, big data, etc\n",
    "- Funcitonal Skills such as statistics, analytical/problem solving skills, clearly identifying problem and outcome\n",
    "- Soft Skills such as working as a team and always being curious"
   ]
  }
 ],
 "metadata": {
  "colab": {
   "name": "(Week 1) Modern Data Ecosystem and Role of Data Analytics",
   "provenance": []
  },
  "kernelspec": {
   "display_name": "Python 3",
   "language": "python",
   "name": "python3"
  },
  "language_info": {
   "codemirror_mode": {
    "name": "ipython",
    "version": 3
   },
   "file_extension": ".py",
   "mimetype": "text/x-python",
   "name": "python",
   "nbconvert_exporter": "python",
   "pygments_lexer": "ipython3",
   "version": "3.8.8"
  }
 },
 "nbformat": 4,
 "nbformat_minor": 1
}
